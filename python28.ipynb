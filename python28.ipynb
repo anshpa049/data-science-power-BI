{
 "cells": [
  {
   "cell_type": "code",
   "execution_count": 2,
   "id": "2088b4c7-e665-41b8-8eee-276770117c46",
   "metadata": {},
   "outputs": [],
   "source": [
    "my_string=\"my name is john\""
   ]
  },
  {
   "cell_type": "code",
   "execution_count": 3,
   "id": "4878144b-07f3-4b5b-9494-fafaac847a47",
   "metadata": {},
   "outputs": [
    {
     "data": {
      "text/plain": [
       "'m'"
      ]
     },
     "execution_count": 3,
     "metadata": {},
     "output_type": "execute_result"
    }
   ],
   "source": [
    "my_string[0]"
   ]
  },
  {
   "cell_type": "code",
   "execution_count": 4,
   "id": "fa5bd5d4-daff-49b3-b95f-cdaf944370b8",
   "metadata": {},
   "outputs": [],
   "source": [
    "my_string=\"this is sparta\""
   ]
  },
  {
   "cell_type": "code",
   "execution_count": 5,
   "id": "2022032e-462e-4991-8743-e4ef4ce8a85b",
   "metadata": {},
   "outputs": [
    {
     "data": {
      "text/plain": [
       "'this is sparta'"
      ]
     },
     "execution_count": 5,
     "metadata": {},
     "output_type": "execute_result"
    }
   ],
   "source": [
    "my_string"
   ]
  },
  {
   "cell_type": "code",
   "execution_count": 6,
   "id": "b8f1dd58-d24c-4e4f-8134-9f6e678a52ab",
   "metadata": {},
   "outputs": [
    {
     "data": {
      "text/plain": [
       "'t'"
      ]
     },
     "execution_count": 6,
     "metadata": {},
     "output_type": "execute_result"
    }
   ],
   "source": [
    "my_string[0]"
   ]
  },
  {
   "cell_type": "code",
   "execution_count": 7,
   "id": "69d0cb2b-87fc-4d5c-b046-677b8d7c8377",
   "metadata": {},
   "outputs": [
    {
     "data": {
      "text/plain": [
       "'a'"
      ]
     },
     "execution_count": 7,
     "metadata": {},
     "output_type": "execute_result"
    }
   ],
   "source": [
    "my_string[-1]"
   ]
  },
  {
   "cell_type": "code",
   "execution_count": 8,
   "id": "038ac3d6-f1d2-4e32-9010-b3a865669709",
   "metadata": {},
   "outputs": [
    {
     "data": {
      "text/plain": [
       "'is spa'"
      ]
     },
     "execution_count": 8,
     "metadata": {},
     "output_type": "execute_result"
    }
   ],
   "source": [
    "my_string[5:11]"
   ]
  },
  {
   "cell_type": "code",
   "execution_count": null,
   "id": "ec247517-03f0-4a6d-8202-bcb01075955e",
   "metadata": {},
   "outputs": [],
   "source": [
    "string function"
   ]
  },
  {
   "cell_type": "code",
   "execution_count": 10,
   "id": "12d721d6-cafa-4204-944e-9a1baf5e3369",
   "metadata": {},
   "outputs": [
    {
     "data": {
      "text/plain": [
       "'This is sparta'"
      ]
     },
     "execution_count": 10,
     "metadata": {},
     "output_type": "execute_result"
    }
   ],
   "source": [
    "my_string=\"This is sparta\"\n",
    "my_string"
   ]
  },
  {
   "cell_type": "code",
   "execution_count": 11,
   "id": "e960a226-e35d-4c5b-95d6-c96fac6d0e3e",
   "metadata": {},
   "outputs": [
    {
     "data": {
      "text/plain": [
       "14"
      ]
     },
     "execution_count": 11,
     "metadata": {},
     "output_type": "execute_result"
    }
   ],
   "source": [
    "len(my_string)"
   ]
  },
  {
   "cell_type": "code",
   "execution_count": 13,
   "id": "48aec5ef-12fe-4867-829f-ac98e47f560b",
   "metadata": {},
   "outputs": [
    {
     "data": {
      "text/plain": [
       "'this is sparta'"
      ]
     },
     "execution_count": 13,
     "metadata": {},
     "output_type": "execute_result"
    }
   ],
   "source": [
    "my_string.lower()"
   ]
  },
  {
   "cell_type": "code",
   "execution_count": 14,
   "id": "8f800543-bafb-44ed-8ca1-d52c8af41fbc",
   "metadata": {},
   "outputs": [
    {
     "data": {
      "text/plain": [
       "'THIS IS SPARTA'"
      ]
     },
     "execution_count": 14,
     "metadata": {},
     "output_type": "execute_result"
    }
   ],
   "source": [
    "my_string.upper()"
   ]
  },
  {
   "cell_type": "code",
   "execution_count": 15,
   "id": "68b5fb16-136b-4d0f-85e8-83e050f52d09",
   "metadata": {},
   "outputs": [
    {
     "data": {
      "text/plain": [
       "'This is sparta'"
      ]
     },
     "execution_count": 15,
     "metadata": {},
     "output_type": "execute_result"
    }
   ],
   "source": [
    "my_string.replace('y','a')"
   ]
  },
  {
   "cell_type": "code",
   "execution_count": 16,
   "id": "58d50440-a6d3-498d-b3de-8d001ac6c494",
   "metadata": {},
   "outputs": [
    {
     "data": {
      "text/plain": [
       "'Thare are sparta'"
      ]
     },
     "execution_count": 16,
     "metadata": {},
     "output_type": "execute_result"
    }
   ],
   "source": [
    "my_string.replace('is','are')"
   ]
  },
  {
   "cell_type": "code",
   "execution_count": 17,
   "id": "90792120-c479-490b-b733-6a124ee6b50d",
   "metadata": {},
   "outputs": [
    {
     "data": {
      "text/plain": [
       "'sparta sparata 300 300 300 s'"
      ]
     },
     "execution_count": 17,
     "metadata": {},
     "output_type": "execute_result"
    }
   ],
   "source": [
    "str_new='sparta sparata 300 300 300 s'\n",
    "str_new"
   ]
  },
  {
   "cell_type": "code",
   "execution_count": 18,
   "id": "2bf0c58d-471b-445d-a5f9-172ea7edb2ab",
   "metadata": {},
   "outputs": [
    {
     "data": {
      "text/plain": [
       "1"
      ]
     },
     "execution_count": 18,
     "metadata": {},
     "output_type": "execute_result"
    }
   ],
   "source": [
    "str_new.count('sparta')"
   ]
  },
  {
   "cell_type": "code",
   "execution_count": 19,
   "id": "deb118b5-0656-4801-af3f-94aad79ef384",
   "metadata": {},
   "outputs": [
    {
     "data": {
      "text/plain": [
       "3"
      ]
     },
     "execution_count": 19,
     "metadata": {},
     "output_type": "execute_result"
    }
   ],
   "source": [
    "str_new.count('s')"
   ]
  },
  {
   "cell_type": "code",
   "execution_count": 20,
   "id": "0cb41e46-2e8d-4b73-90de-a0bae173e912",
   "metadata": {},
   "outputs": [
    {
     "data": {
      "text/plain": [
       "0"
      ]
     },
     "execution_count": 20,
     "metadata": {},
     "output_type": "execute_result"
    }
   ],
   "source": [
    "str_new.count('Arun kumar pandey')"
   ]
  },
  {
   "cell_type": "code",
   "execution_count": 21,
   "id": "4adbc89f-dba4-4309-b2e8-7faaedf76801",
   "metadata": {},
   "outputs": [
    {
     "data": {
      "text/plain": [
       "5"
      ]
     },
     "execution_count": 21,
     "metadata": {},
     "output_type": "execute_result"
    }
   ],
   "source": [
    "str_new.count('a')"
   ]
  }
 ],
 "metadata": {
  "kernelspec": {
   "display_name": "Python 3 (ipykernel)",
   "language": "python",
   "name": "python3"
  },
  "language_info": {
   "codemirror_mode": {
    "name": "ipython",
    "version": 3
   },
   "file_extension": ".py",
   "mimetype": "text/x-python",
   "name": "python",
   "nbconvert_exporter": "python",
   "pygments_lexer": "ipython3",
   "version": "3.11.7"
  }
 },
 "nbformat": 4,
 "nbformat_minor": 5
}
